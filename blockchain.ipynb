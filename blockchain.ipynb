{
 "cells": [
  {
   "cell_type": "code",
   "execution_count": 1,
   "id": "4c56b79b",
   "metadata": {},
   "outputs": [
    {
     "name": "stdout",
     "output_type": "stream",
     "text": [
      " * Serving Flask app \"__main__\" (lazy loading)\n",
      " * Environment: production\n",
      "\u001b[31m   WARNING: This is a development server. Do not use it in a production deployment.\u001b[0m\n",
      "\u001b[2m   Use a production WSGI server instead.\u001b[0m\n",
      " * Debug mode: off\n"
     ]
    },
    {
     "name": "stderr",
     "output_type": "stream",
     "text": [
      " * Running on http://127.0.0.1:5000/ (Press CTRL+C to quit)\n",
      "127.0.0.1 - - [27/Mar/2022 10:28:15] \"GET / HTTP/1.1\" 200 -\n",
      "127.0.0.1 - - [27/Mar/2022 10:28:32] \"POST / HTTP/1.1\" 200 -\n",
      "127.0.0.1 - - [27/Mar/2022 10:28:44] \"POST / HTTP/1.1\" 200 -\n",
      "127.0.0.1 - - [27/Mar/2022 10:28:50] \"POST / HTTP/1.1\" 200 -\n",
      "127.0.0.1 - - [27/Mar/2022 10:28:51] \"GET / HTTP/1.1\" 200 -\n",
      "127.0.0.1 - - [27/Mar/2022 10:28:52] \"POST / HTTP/1.1\" 200 -\n",
      "127.0.0.1 - - [27/Mar/2022 10:28:59] \"POST / HTTP/1.1\" 200 -\n",
      "127.0.0.1 - - [27/Mar/2022 10:29:02] \"POST / HTTP/1.1\" 200 -\n",
      "127.0.0.1 - - [27/Mar/2022 10:29:04] \"GET / HTTP/1.1\" 200 -\n",
      "127.0.0.1 - - [27/Mar/2022 10:29:05] \"GET /view.html HTTP/1.1\" 200 -\n",
      "127.0.0.1 - - [27/Mar/2022 10:29:13] \"POST /view.html HTTP/1.1\" 200 -\n"
     ]
    },
    {
     "name": "stdout",
     "output_type": "stream",
     "text": [
      "Genesis Block\n",
      "['CUHK', '2022-03-27', 'FTEC', 'Daily', ['Elected', 'Unchosen', 'Unchosen', 'Unchosen', 'Unchosen', 'Unchosen', 'Unchosen', 'Unchosen', 'Unchosen', 'Unchosen']]\n"
     ]
    },
    {
     "name": "stderr",
     "output_type": "stream",
     "text": [
      "127.0.0.1 - - [27/Mar/2022 10:29:18] \"GET / HTTP/1.1\" 200 -\n",
      "127.0.0.1 - - [27/Mar/2022 10:29:20] \"GET /view.html HTTP/1.1\" 200 -\n",
      "127.0.0.1 - - [27/Mar/2022 10:29:24] \"POST /view.html HTTP/1.1\" 200 -\n"
     ]
    },
    {
     "name": "stdout",
     "output_type": "stream",
     "text": [
      "Genesis Block\n",
      "['CUHK', '2022-03-27', 'FTEC', 'Daily', ['Elected', 'Unchosen', 'Unchosen', 'Unchosen', 'Unchosen', 'Unchosen', 'Unchosen', 'Unchosen', 'Unchosen', 'Unchosen']]\n",
      "['CUHK', '2022-03-20', 'FTEC', 'Daily', ['Unchosen', 'Elected', 'Unchosen', 'Unchosen', 'Unchosen', 'Unchosen', 'Unchosen', 'Unchosen', 'Unchosen', 'Unchosen']]\n"
     ]
    },
    {
     "name": "stderr",
     "output_type": "stream",
     "text": [
      "127.0.0.1 - - [27/Mar/2022 10:29:29] \"GET / HTTP/1.1\" 200 -\n",
      "127.0.0.1 - - [27/Mar/2022 10:29:34] \"POST / HTTP/1.1\" 200 -\n",
      "127.0.0.1 - - [27/Mar/2022 10:29:40] \"POST / HTTP/1.1\" 200 -\n",
      "127.0.0.1 - - [27/Mar/2022 10:29:43] \"POST / HTTP/1.1\" 200 -\n",
      "127.0.0.1 - - [27/Mar/2022 10:29:45] \"GET / HTTP/1.1\" 200 -\n",
      "127.0.0.1 - - [27/Mar/2022 10:29:48] \"GET /view.html HTTP/1.1\" 200 -\n",
      "127.0.0.1 - - [27/Mar/2022 10:29:52] \"POST /view.html HTTP/1.1\" 200 -\n"
     ]
    },
    {
     "name": "stdout",
     "output_type": "stream",
     "text": [
      "Genesis Block\n",
      "['CUHK', '2022-03-27', 'FTEC', 'Daily', ['Elected', 'Unchosen', 'Unchosen', 'Unchosen', 'Unchosen', 'Unchosen', 'Unchosen', 'Unchosen', 'Unchosen', 'Unchosen']]\n"
     ]
    },
    {
     "name": "stderr",
     "output_type": "stream",
     "text": [
      "127.0.0.1 - - [27/Mar/2022 10:29:59] \"GET / HTTP/1.1\" 200 -\n",
      "127.0.0.1 - - [27/Mar/2022 10:30:01] \"GET /result.html HTTP/1.1\" 200 -\n"
     ]
    },
    {
     "name": "stdout",
     "output_type": "stream",
     "text": [
      "Checking integrity of block 0\n",
      "Checking integrity of block 1\n",
      "Checking integrity of block 2\n"
     ]
    },
    {
     "name": "stderr",
     "output_type": "stream",
     "text": [
      "127.0.0.1 - - [27/Mar/2022 10:30:04] \"GET / HTTP/1.1\" 200 -\n"
     ]
    }
   ],
   "source": [
    "# Python module imports\n",
    "import datetime as dt\n",
    "import hashlib\n",
    "from flask import Flask, request, render_template, Response\n",
    "\n",
    "# Importing local functions\n",
    "from block import *\n",
    "\n",
    "# Flask declarations\n",
    "app = Flask(__name__)\n",
    "response = Response()\n",
    "response.headers.add('Cache-Control', 'no-store, no-cache, must-revalidate, post-check=0, pre-check=0')\n",
    "\n",
    "# Initializing blockchain with the genesis block\n",
    "blockchain = create_genesis_block()\n",
    "data = []\n",
    "\n",
    "# Default Landing page of the app\n",
    "@app.route('/',  methods = ['GET'])\n",
    "def index():\n",
    "    return render_template(\"index.html\")\n",
    "\n",
    "# Get Form input and decide what is to be done with it\n",
    "@app.route('/', methods = ['POST'])\n",
    "def parse_request():\n",
    "    if(request.form.get(\"name\")):\n",
    "        while len(data) > 0:\n",
    "            data.pop()\n",
    "        data.append(request.form.get(\"name\"))\n",
    "        return render_template(\"background.html\",\n",
    "                                name = request.form.get(\"name\"))\n",
    "\n",
    "    elif(request.form.get(\"number\")):\n",
    "        while len(data) > 1:\n",
    "            data.pop()\n",
    "        data.append(request.form.get(\"date\"))\n",
    "        data.append(request.form.get(\"course\"))\n",
    "        data.append(request.form.get(\"year\"))\n",
    "        return render_template(\"details.html\",\n",
    "                                name = data[0],\n",
    "                                date = request.form.get(\"date\"),\n",
    "                                course = request.form.get(\"course\"),\n",
    "                                year = request.form.get(\"year\"),\n",
    "                                number = int(request.form.get(\"number\")))\n",
    "    elif(request.form.get(\"roll_no1\")):\n",
    "        while len(data) > 4:\n",
    "            data.pop()\n",
    "        return render_template(\"result.html\", result = add_block(request.form, data, blockchain))\n",
    "\n",
    "    else:\n",
    "        return \"Invalid POST request. This incident has been recorded.\"\n",
    "\n",
    "# Show page to get information for fetching records\n",
    "@app.route('/view.html',  methods = ['GET'])\n",
    "def view():\n",
    "    return render_template(\"background.html\")\n",
    "\n",
    "# Process form input for fetching records from the blockchain\n",
    "@app.route('/view.html',  methods = ['POST'])\n",
    "def show_records():\n",
    "    data = []\n",
    "    data = find_records(request.form, blockchain)\n",
    "    if data == -1:\n",
    "        return \"Records not found\"\n",
    "    return render_template(\"view.html\",\n",
    "                            name = request.form.get(\"name\"),\n",
    "                            course = request.form.get(\"course\"),\n",
    "                            year = request.form.get(\"year\"),\n",
    "                            status = data,\n",
    "                            number = int(request.form.get(\"number\")),\n",
    "                            date = request.form.get(\"date\"))\n",
    "\n",
    "# Show page with result of checking blockchain integrity\n",
    "@app.route('/result.html',  methods = ['GET'])\n",
    "def check():\n",
    "    return render_template(\"result.html\", result = check_integrity(blockchain))\n",
    "\n",
    "# Start the flask app when program is executed\n",
    "if __name__ == \"__main__\":\n",
    "    app.run()\n"
   ]
  },
  {
   "cell_type": "code",
   "execution_count": null,
   "id": "32cdac3a",
   "metadata": {},
   "outputs": [],
   "source": []
  }
 ],
 "metadata": {
  "kernelspec": {
   "display_name": "Python 3 (ipykernel)",
   "language": "python",
   "name": "python3"
  },
  "language_info": {
   "codemirror_mode": {
    "name": "ipython",
    "version": 3
   },
   "file_extension": ".py",
   "mimetype": "text/x-python",
   "name": "python",
   "nbconvert_exporter": "python",
   "pygments_lexer": "ipython3",
   "version": "3.9.7"
  }
 },
 "nbformat": 4,
 "nbformat_minor": 5
}
